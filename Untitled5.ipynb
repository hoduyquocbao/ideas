{
  "cells": [
    {
      "cell_type": "markdown",
      "metadata": {
        "id": "view-in-github",
        "colab_type": "text"
      },
      "source": [
        "<a href=\"https://colab.research.google.com/github/hoduyquocbao/ideas/blob/main/Untitled5.ipynb\" target=\"_parent\"><img src=\"https://colab.research.google.com/assets/colab-badge.svg\" alt=\"Open In Colab\"/></a>"
      ]
    },
    {
      "cell_type": "code",
      "execution_count": null,
      "metadata": {
        "colab": {
          "background_save": true
        },
        "id": "XpjcGdvAAEpq",
        "outputId": "5976ef53-2292-44ae-9ada-62f36ff1ab9c"
      },
      "outputs": [
        {
          "name": "stdout",
          "output_type": "stream",
          "text": [
            "40 68 71 162\n"
          ]
        },
        {
          "data": {
            "text/plain": [
              "True"
            ]
          },
          "execution_count": 2,
          "metadata": {},
          "output_type": "execute_result"
        }
      ],
      "source": [
        "# Nhập thư viện cupy\n",
        "import cupy as cp\n",
        "\n",
        "# Khai báo các hằng số MIN và MAX\n",
        "MIN = 0\n",
        "MAX = 256\n",
        "\n",
        "# Định nghĩa hàm tìm các cặp số thỏa mãn điều kiện\n",
        "def find_numbers():\n",
        "    # Khởi tạo một biến điều kiện là False\n",
        "    condition = False\n",
        "    # Lặp lại cho đến khi điều kiện là True\n",
        "    while not condition:\n",
        "      # Bước 1: Tạo ra các số nguyên ngẫu nhiên w, x, y, z bằng cách sử dụng hàm cp.random.randint\n",
        "      # Sửa lỗi: Tạo ra các số nguyên đơn lẻ thay vì các mảng\n",
        "      w = cp.random.randint(MIN, MAX + 1) # Thêm 1 để bao gồm cả MAX\n",
        "      x = cp.random.randint(MIN, MAX + 1)\n",
        "      y = cp.random.randint(MIN, MAX + 1)\n",
        "      z = cp.random.randint(MIN, MAX + 1)\n",
        "      # Bước 2: Tính toán các biến wx, wy, zx, zy bằng cách sử dụng toán tử %\n",
        "      # Cải tiến: Viết gọn hơn bằng cách sử dụng toán\n",
        "      wx = ((w % 256) + (x % 256)) % 256\n",
        "      wy = ((w % 256) + (y % 256)) % 256\n",
        "      zx = ((z % 256) + (x % 256)) % 256\n",
        "      zy = ((z % 256) + (y % 256)) % 256\n",
        "      # print(wx)\n",
        "      # Bước 3: Kiểm tra điều kiện bằng cách sử dụng toán tử ==\n",
        "      # Cải tiến: Viết gọn hơn bằng cách sử dụng toán tử and\n",
        "      condition = wx == 108 and wy == 111\n",
        "      # Bước 4: Trả về các cặp số thỏa mãn điều kiện\n",
        "      # Sửa lỗi: Không cần sử dụng hàm cp.any\n",
        "      if condition:\n",
        "          # In ra các cặp số thỏa mãn điều kiện\n",
        "          print(w, x, y, z)\n",
        "          # Trả về True để dừng vòng lặp\n",
        "          return True\n",
        "      else:\n",
        "          # Tiếp tục chạy cho đến khi đạt điều kiện\n",
        "          # Không cần gọi lại hàm vì đã có vòng lặp while\n",
        "          pass\n",
        "\n",
        "# Gọi hàm tìm các cặp số\n",
        "find_numbers()\n"
      ]
    }
  ],
  "metadata": {
    "accelerator": "GPU",
    "colab": {
      "provenance": [],
      "authorship_tag": "ABX9TyOxWICmMEvcZP7GYlF7T+YV",
      "include_colab_link": true
    },
    "kernelspec": {
      "display_name": "Python 3",
      "name": "python3"
    },
    "language_info": {
      "name": "python"
    }
  },
  "nbformat": 4,
  "nbformat_minor": 0
}